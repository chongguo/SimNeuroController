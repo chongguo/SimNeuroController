{
 "cells": [
  {
   "cell_type": "markdown",
   "metadata": {},
   "source": [
    "## Qualtiy of neural control reflects local gradient alignment\n",
    "\n",
    "Here we perform three experiments:\n",
    "1. Gradient alignment via linear mapping vs. starndard regression EV as a function of sample size\n",
    "2. Original strech control objective vs. gradient alignment EV from linear mapping\n",
    "3. Targeted control objective vs. gradient alignment EV. \n",
    "\n",
    "The goal of #1 is to see whether better pointwise function alignment leads to better gradient alignment.\n",
    "If this is the case, then this would explan #2. "
   ]
  },
  {
   "cell_type": "code",
   "execution_count": null,
   "metadata": {},
   "outputs": [],
   "source": []
  }
 ],
 "metadata": {
  "kernelspec": {
   "display_name": "Python 3",
   "language": "python",
   "name": "python3"
  },
  "language_info": {
   "codemirror_mode": {
    "name": "ipython",
    "version": 3
   },
   "file_extension": ".py",
   "mimetype": "text/x-python",
   "name": "python",
   "nbconvert_exporter": "python",
   "pygments_lexer": "ipython3",
   "version": "3.6.4"
  }
 },
 "nbformat": 4,
 "nbformat_minor": 2
}
