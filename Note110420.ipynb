{
 "cells": [
  {
   "cell_type": "code",
   "execution_count": 1,
   "metadata": {},
   "outputs": [],
   "source": [
    "import torchvision.models as models\n",
    "import torch\n",
    "from alexnet_pytorch import AlexNet as alexnet2\n",
    "from util.layervisualization import CNNLayerVisualization\n",
    "from util.modelregressions import CNNCrossFit\n",
    "from util.misc_functions import float2rgb\n",
    "from dataset.hvm import HVMDataset\n",
    "import matplotlib.image as mpimg\n",
    "import matplotlib.pyplot as plt\n",
    "import numpy as np\n",
    "import os"
   ]
  },
  {
   "cell_type": "code",
   "execution_count": 2,
   "metadata": {},
   "outputs": [],
   "source": [
    "# load up target and source models\n",
    "squeezenet_target = models.squeezenet1_0(pretrained=True).features\n",
    "squeezenet_source = models.squeezenet1_1(pretrained=True).features\n",
    "alexnet_source = models.alexnet(pretrained=True).features\n",
    "\n",
    "# pre-load data into memory for speed\n",
    "hvmdataset = HVMDataset(5500)"
   ]
  },
  {
   "cell_type": "code",
   "execution_count": 3,
   "metadata": {},
   "outputs": [],
   "source": [
    "# define basic params \n",
    "cnn_layer = 7\n",
    "source_units = np.arange(128)\n",
    "target_units = np.arange(128)\n",
    "img_dim = [256,256,3]"
   ]
  },
  {
   "cell_type": "code",
   "execution_count": null,
   "metadata": {},
   "outputs": [],
   "source": [
    "# create a control experiment (squeezenet1_1-->squeezenet1_0)\n",
    "snet2snet4000 = CNNCrossFit(squeezenet_target,squeezenet_source,cnn_layer,target_units,source_units)\n",
    "# extract layer activation across two models\n",
    "snet2snet4000.design(hvmdataset,4000,1500)\n",
    "# linear prediction of target unit, record performance\n",
    "snet2snet4000.fit()\n",
    "# implement source control of target units, record performance\n",
    "snet2snet4000.control()"
   ]
  },
  {
   "cell_type": "code",
   "execution_count": 37,
   "metadata": {},
   "outputs": [
    {
     "data": {
      "text/plain": [
       "Sequential(\n",
       "  (0): Conv2d(3, 96, kernel_size=(7, 7), stride=(2, 2))\n",
       "  (1): ReLU(inplace=True)\n",
       "  (2): MaxPool2d(kernel_size=3, stride=2, padding=0, dilation=1, ceil_mode=True)\n",
       "  (3): Fire(\n",
       "    (squeeze): Conv2d(96, 16, kernel_size=(1, 1), stride=(1, 1))\n",
       "    (squeeze_activation): ReLU(inplace=True)\n",
       "    (expand1x1): Conv2d(16, 64, kernel_size=(1, 1), stride=(1, 1))\n",
       "    (expand1x1_activation): ReLU(inplace=True)\n",
       "    (expand3x3): Conv2d(16, 64, kernel_size=(3, 3), stride=(1, 1), padding=(1, 1))\n",
       "    (expand3x3_activation): ReLU(inplace=True)\n",
       "  )\n",
       "  (4): Fire(\n",
       "    (squeeze): Conv2d(128, 16, kernel_size=(1, 1), stride=(1, 1))\n",
       "    (squeeze_activation): ReLU(inplace=True)\n",
       "    (expand1x1): Conv2d(16, 64, kernel_size=(1, 1), stride=(1, 1))\n",
       "    (expand1x1_activation): ReLU(inplace=True)\n",
       "    (expand3x3): Conv2d(16, 64, kernel_size=(3, 3), stride=(1, 1), padding=(1, 1))\n",
       "    (expand3x3_activation): ReLU(inplace=True)\n",
       "  )\n",
       ")"
      ]
     },
     "execution_count": 37,
     "metadata": {},
     "output_type": "execute_result"
    }
   ],
   "source": [
    "snet2snet4000.target_net[:5]"
   ]
  },
  {
   "cell_type": "code",
   "execution_count": null,
   "metadata": {},
   "outputs": [],
   "source": [
    "plt.figure(figsize=(14,3))\n",
    "plt.subplot(1,3,1)\n",
    "plt.plot(snet2snet4000.train_score,snet2snet.test_score,'.')\n",
    "plt.plot([0,1],[0,1],'k--')\n",
    "plt.xlim([0,1])\n",
    "plt.ylim((0,1))\n",
    "plt.xlabel('train score')\n",
    "plt.ylabel('test score')\n",
    "plt.subplot(1,3,2)\n",
    "plt.plot(snet2snet4000.target_act,snet2snet.source_act,'.')\n",
    "plt.axis('tight')\n",
    "plt.xlabel('optimized act. target model')\n",
    "plt.ylabel('optimized act. source model')\n",
    "plt.subplot(1,3,3)\n",
    "plt.plot(snet2snet4000.test_score,snet2snet.ctr_score,'.')\n",
    "plt.xlim((0,1))\n",
    "plt.ylim((0,1))\n",
    "plt.xlabel('test score')\n",
    "plt.ylabel('fraction act. source/target')\n",
    "plt.show()"
   ]
  },
  {
   "cell_type": "code",
   "execution_count": null,
   "metadata": {},
   "outputs": [],
   "source": [
    "# pre-load data into memory for speed\n",
    "hvmdataset = HVMDataset(2500)\n",
    "# create a control experiment (squeezenet1_1-->squeezenet1_0)\n",
    "snet2snet2000 = CNNCrossFit(squeezenet_target,squeezenet_source,cnn_layer,target_units,source_units)\n",
    "# extract layer activation across two models\n",
    "snet2snet2000.design(hvmdataset,1000,1500)\n",
    "# linear prediction of target unit, record performance\n",
    "snet2snet2000.fit()\n",
    "# implement source control of target units, record performance\n",
    "snet2snet2000.control()"
   ]
  },
  {
   "cell_type": "code",
   "execution_count": null,
   "metadata": {},
   "outputs": [],
   "source": [
    "# create a control experiment (squeezenet1_1-->squeezenet1_0)\n",
    "snet2snet1000 = CNNCrossFit(squeezenet_target,squeezenet_source,cnn_layer,target_units,source_units)\n",
    "# extract layer activation across two models\n",
    "snet2snet1000.design(hvmdataset,1000,1000)\n",
    "# linear prediction of target unit, record performance\n",
    "snet2snet1000.fit()\n",
    "# implement source control of target units, record performance\n",
    "snet2snet1000.control()\n",
    "\n",
    "plt.figure(figsize=(14,3))\n",
    "plt.subplot(1,3,1)\n",
    "plt.plot(snet2snet1000.train_score,snet2snet.test_score,'.')\n",
    "plt.plot([0,1],[0,1],'k--')\n",
    "plt.xlim([0,1])\n",
    "plt.ylim((0,1))\n",
    "plt.xlabel('train score')\n",
    "plt.ylabel('test score')\n",
    "plt.subplot(1,3,2)\n",
    "plt.plot(snet2snet1000.target_act,snet2snet.source_act,'.')\n",
    "plt.axis('tight')\n",
    "plt.xlabel('optimized act. target model')\n",
    "plt.ylabel('optimized act. source model')\n",
    "plt.subplot(1,3,3)\n",
    "plt.plot(snet2snet1000.test_score,snet2snet.ctr_score,'.')\n",
    "plt.xlim((0,1))\n",
    "plt.ylim((0,1))\n",
    "plt.xlabel('test score')\n",
    "plt.ylabel('fraction act. source/target')\n",
    "plt.show()"
   ]
  },
  {
   "cell_type": "code",
   "execution_count": 4,
   "metadata": {},
   "outputs": [
    {
     "name": "stderr",
     "output_type": "stream",
     "text": [
      "100%|███████████████████████████████████████████████████████████████████████████████████████████████████████████████| 2/2 [00:18<00:00,  9.26s/it]\n",
      "100%|█████████████████████████████████████████████████████████████████████████████████████████████████████████████| 10/10 [01:31<00:00,  9.09s/it]\n",
      "100%|███████████████████████████████████████████████████████████████████████████████████████████████████████████| 128/128 [30:40<00:00, 14.09s/it]\n"
     ]
    }
   ],
   "source": [
    "# pre-load data into memory for speed\n",
    "hvmdataset = HVMDataset(1200)\n",
    "# create a control experiment (squeezenet1_1-->squeezenet1_0)\n",
    "snet2snet200 = CNNCrossFit(squeezenet_target,squeezenet_source,cnn_layer,target_units,source_units)\n",
    "# extract layer activation across two models\n",
    "snet2snet200.design(hvmdataset,200,1000)\n",
    "# linear prediction of target unit, record performance\n",
    "snet2snet200.fit()\n",
    "# implement source control of target units, record performance\n",
    "snet2snet200.control()"
   ]
  },
  {
   "cell_type": "code",
   "execution_count": 5,
   "metadata": {},
   "outputs": [
    {
     "data": {
      "image/png": "[encoded data removed]",
      "text/plain": [
       "<matplotlib.figure.Figure at 0x26b46dc52b0>"
      ]
     },
     "metadata": {
      "needs_background": "light"
     },
     "output_type": "display_data"
    }
   ],
   "source": [
    "plt.figure(figsize=(14,3))\n",
    "plt.subplot(1,3,1)\n",
    "#plt.plot(snet2snet100.train_score,snet2snet100.test_score,'.')\n",
    "#plt.plot(snet2snet2000.train_score,snet2snet.test_score,'.')\n",
    "plt.plot(snet2snet200.train_score,snet2snet200.test_score,'.')\n",
    "plt.plot([0,1],[0,1],'k--')\n",
    "plt.xlim([0,1])\n",
    "plt.ylim((0,1))\n",
    "plt.xlabel('train score')\n",
    "plt.ylabel('test score')\n",
    "plt.subplot(1,3,2)\n",
    "#plt.plot(snet2snet100.target_act,snet2snet100.source_act,'.')\n",
    "#plt.plot(snet2snet2000.target_act,snet2snet.source_act,'.')\n",
    "plt.plot(snet2snet200.target_act,snet2snet200.source_act,'.')\n",
    "plt.axis('tight')\n",
    "plt.xlabel('optimized act. target model')\n",
    "plt.ylabel('optimized act. source model')\n",
    "plt.subplot(1,3,3)\n",
    "#plt.plot(snet2snet100.test_score,snet2snet100.ctr_score,'.',label='4000')\n",
    "plt.plot(snet2snet200.test_score,snet2snet200.ctr_score,'.',label='2000')\n",
    "plt.legend()\n",
    "plt.xlim((0,1))\n",
    "plt.ylim((0,1))\n",
    "plt.xlabel('test score')\n",
    "plt.ylabel('fraction act. source/target')\n",
    "plt.show()"
   ]
  },
  {
   "cell_type": "code",
   "execution_count": null,
   "metadata": {},
   "outputs": [],
   "source": [
    "# create two feature visualization objects\n",
    "img_dim = [256,256,3]\n",
    "niter = 100\n",
    "layer_vis_target = CNNLayerVisualization(squeezenet_target, cnn_layer, target_units,img_dim)\n",
    "\n",
    "# Image sythesis with pytorch hooks\n",
    "[Img_target, target_val] = layer_vis_target.visualise_layer_with_hooks(niter=niter)\n",
    "#[Img_source, source_val] = layer_vis_source.visualise_layer_with_hooks(niter=niter, w = snet2snet.w, b = snet2snet.b)"
   ]
  },
  {
   "cell_type": "code",
   "execution_count": null,
   "metadata": {},
   "outputs": [],
   "source": [
    "img = np.zeros((img_dim[0]*img_dim[1]*img_dim[2],niter))\n",
    "plt.figure(figsize=(15,40))\n",
    "for i in range(niter):\n",
    "    im_path = 'generated/layer_vis_l' + str(cnn_layer) + \\\n",
    "        '_f' + str(source_units) + '_iter' + str(i+1) + '.jpg'\n",
    "    tempimg=mpimg.imread(im_path)\n",
    "    img[:,i] = tempimg.flatten()\n",
    "    if i%(niter/5) == 0:\n",
    "        plt.subplot(1,5,round(i/(niter/5))+1)\n",
    "        plt.imshow(tempimg)\n",
    "        plt.axis('off')\n",
    "        plt.clim([0,1])\n",
    "plt.show()"
   ]
  },
  {
   "cell_type": "code",
   "execution_count": null,
   "metadata": {},
   "outputs": [],
   "source": [
    "import seaborn as sns\n",
    "from sklearn.decomposition import PCA\n",
    "\n",
    "D = img[:,0:-2:1]-img[:,1:-1:1];\n",
    "[d,n] = D.shape\n",
    "pca = PCA(n_components=n,whiten=False)\n",
    "pca.fit(D)\n"
   ]
  },
  {
   "cell_type": "code",
   "execution_count": null,
   "metadata": {},
   "outputs": [],
   "source": [
    "Dpca = pca.transform(D)\n",
    "Dproj_pc1 = Dpca[:,0].reshape(img_dim)\n",
    "\n",
    "plt.figure(figsize=(15,40))\n",
    "plt.subplot(1,4,1)\n",
    "plt.imshow(float2rgb(tempimg))\n",
    "plt.axis('off')\n",
    "plt.subplot(1,4,2)\n",
    "plt.imshow(float2rgb(Dproj_pc1))\n",
    "plt.axis('off')\n",
    "plt.subplot(1,4,3)\n",
    "plt.imshow(float2rgb(D[:,5].reshape(img_dim)))\n",
    "plt.axis('off')\n",
    "plt.subplot(1,4,4)\n",
    "plt.imshow(float2rgb(D[:,-5].reshape(img_dim)))\n",
    "plt.axis('off')\n",
    "plt.show()"
   ]
  },
  {
   "cell_type": "code",
   "execution_count": null,
   "metadata": {},
   "outputs": [],
   "source": [
    "plt.plot(pca.explained_variance_,'.')\n",
    "plt.show()\n",
    "plt.plot(target_val)\n",
    "plt.plot(source_val)\n",
    "plt.show()"
   ]
  },
  {
   "cell_type": "code",
   "execution_count": null,
   "metadata": {},
   "outputs": [],
   "source": [
    "for index, layer in enumerate(squeezenet_target):\n",
    "    if index == cnn_layer:\n",
    "        print(layer.squeeze.weight.shape)\n",
    "        print(layer.squeeze.weight[filter_pos,filter_pos,:,:].detach().numpy().squeeze())\n",
    "for index, layer in enumerate(squeezenet_target):\n",
    "    if index == cnn_layer:\n",
    "        print(layer.squeeze.weight.shape)\n",
    "        print(layer.squeeze.weight[filter_pos,filter_pos,:,:].detach().numpy().squeeze())"
   ]
  },
  {
   "cell_type": "code",
   "execution_count": null,
   "metadata": {},
   "outputs": [],
   "source": [
    "squeezenetf1"
   ]
  },
  {
   "cell_type": "code",
   "execution_count": null,
   "metadata": {},
   "outputs": [],
   "source": [
    "squeezenetf2"
   ]
  },
  {
   "cell_type": "code",
   "execution_count": null,
   "metadata": {},
   "outputs": [],
   "source": [
    "img_dir = r'C:\\Users\\Chong Guo\\.brainio\\image_dicarlo_hvm'\n",
    "img_list= [file for file in os.listdir(img_dir) if file.endswith('.png')]\n",
    "HVM = [None] * len(img_list)\n",
    "for [index,imgname] in enumerate(img_list[:10]):        \n",
    "            HVM[index]=mpimg.imread(img_dir+os.path.sep+imgname)"
   ]
  },
  {
   "cell_type": "code",
   "execution_count": null,
   "metadata": {},
   "outputs": [],
   "source": [
    "plt.imshow(hvmdataset[0])\n",
    "plt.show()"
   ]
  },
  {
   "cell_type": "code",
   "execution_count": null,
   "metadata": {},
   "outputs": [],
   "source": [
    "len([])"
   ]
  },
  {
   "cell_type": "code",
   "execution_count": null,
   "metadata": {},
   "outputs": [],
   "source": []
  }
 ],
 "metadata": {
  "kernelspec": {
   "display_name": "Python 3",
   "language": "python",
   "name": "python3"
  },
  "language_info": {
   "codemirror_mode": {
    "name": "ipython",
    "version": 3
   },
   "file_extension": ".py",
   "mimetype": "text/x-python",
   "name": "python",
   "nbconvert_exporter": "python",
   "pygments_lexer": "ipython3",
   "version": "3.6.4"
  }
 },
 "nbformat": 4,
 "nbformat_minor": 2
}
